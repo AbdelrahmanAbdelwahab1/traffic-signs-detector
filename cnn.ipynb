{
 "cells": [
  {
   "cell_type": "markdown",
   "metadata": {},
   "source": [
    "# Autonomous CV Project\n",
    "\n",
    "In this project, you will work on a computer vision task for autonomous driving. This project will guide you through the steps of preparing the data, building a deep learning model, training the model, and making predictions.\n",
    "\n",
    "## Project Steps Overview:\n",
    "1. **Data Preprocessing:** Load and preprocess the image data.\n",
    "2. **Data Augmentation:** Apply augmentation techniques to increase the dataset variability.\n",
    "3. **Model Building:** Define the CNN architecture using a deep learning framework.\n",
    "4. **Model Training:** Train the CNN model with the prepared data.\n",
    "5. **Prediction:** Use the trained model to make predictions on test data.\n",
    "\n",
    "Let's get started! Provided below is some code to help you get set up with the data and imports."
   ]
  },
  {
   "cell_type": "markdown",
   "metadata": {},
   "source": [
    "### Importing Libraries\n",
    "First, import the necessary libraries for data manipulation, visualization, and model building."
   ]
  },
  {
   "cell_type": "markdown",
   "metadata": {},
   "source": [
    "# Summary\n",
    "This is a traffic signs dedictor project. That classifies among 43 categories of traffic signs. I tried two deep learning models: tensorflow and pytorch. The validation accuracy of tensorflow model is 83.97%. The validation accuracy of pytorch is 97.1. I did data augmentation before both models.\n"
   ]
  },
  {
   "cell_type": "code",
   "execution_count": 1,
   "metadata": {},
   "outputs": [],
   "source": [
    "import tensorflow as tf\n",
    "import torch\n",
    "import torch.nn as nn\n",
    "import torch.optim as optim\n",
    "from torchvision import datasets, transforms\n",
    "from torch.utils.data import DataLoader, random_split\n",
    "import torch.nn.functional as F\n",
    "from tensorflow.keras import datasets, layers, models\n",
    "import matplotlib.pyplot as plt\n",
    "import pandas as pd\n",
    "\n",
    "import numpy as np\n",
    "import cv2 as cv\n",
    "import pandas as pd\n",
    "import matplotlib.pyplot as plt\n",
    "from sklearn.linear_model import LogisticRegression\n",
    "from sklearn.model_selection import train_test_split\n",
    "from sklearn.metrics import accuracy_score\n",
    "\n",
    "# get files name\n",
    "import os"
   ]
  },
  {
   "cell_type": "code",
   "execution_count": 2,
   "metadata": {},
   "outputs": [],
   "source": [
    "IMG_SIZE = 32 # pixxilating the image \n",
    "\n",
    "\n",
    "# add paths\n",
    "DATADIR = \"Train\"\n",
    "CATEGORIES = []\n",
    "CATEGORIES_TEST = []\n",
    "\n",
    "\n",
    "DATADIR_TEST = \"test\"\n",
    "\n",
    "kind_data = os.listdir(DATADIR)\n",
    "# put names in CATEGORIES\n",
    "for i in range(len(kind_data)):\n",
    "     CATEGORIES.append(kind_data[i])"
   ]
  },
  {
   "cell_type": "code",
   "execution_count": 3,
   "metadata": {},
   "outputs": [],
   "source": [
    "\n",
    "# get training data\n",
    "\n",
    "def create_training_data():\n",
    "    train_images = []\n",
    "    train_labels = []\n",
    "    for category in CATEGORIES:\n",
    "        path = os.path.join(DATADIR, category)\n",
    "        class_num = CATEGORIES.index(category)\n",
    "        for img in os.listdir(path):\n",
    "            try:\n",
    "                img_array = cv.imread(os.path.join(path, img))\n",
    "                new_array = cv.resize(img_array, (IMG_SIZE, IMG_SIZE))\n",
    "                train_images.append(new_array)\n",
    "                train_labels.append(class_num)\n",
    "            except Exception as e:\n",
    "                pass\n",
    "    return np.array(train_images),  np.array(train_labels)"
   ]
  },
  {
   "cell_type": "code",
   "execution_count": 4,
   "metadata": {},
   "outputs": [],
   "source": [
    "train_images, train_labels = create_training_data()\n"
   ]
  },
  {
   "cell_type": "code",
   "execution_count": 5,
   "metadata": {},
   "outputs": [],
   "source": [
    "train_images = train_images / 255.0"
   ]
  },
  {
   "cell_type": "markdown",
   "metadata": {},
   "source": [
    "# tensorflow model"
   ]
  },
  {
   "cell_type": "code",
   "execution_count": 11,
   "metadata": {},
   "outputs": [
    {
     "name": "stdout",
     "output_type": "stream",
     "text": [
      "Epoch 1/20\n",
      "245/245 [==============================] - 45s 179ms/step - loss: 3.2715 - accuracy: 0.1136 - val_loss: 2.8406 - val_accuracy: 0.2132\n",
      "Epoch 2/20\n",
      "245/245 [==============================] - 44s 178ms/step - loss: 2.7341 - accuracy: 0.2195 - val_loss: 2.3558 - val_accuracy: 0.2853\n",
      "Epoch 3/20\n",
      "245/245 [==============================] - 49s 201ms/step - loss: 2.3751 - accuracy: 0.2963 - val_loss: 1.9579 - val_accuracy: 0.3877\n",
      "Epoch 4/20\n",
      "245/245 [==============================] - 49s 200ms/step - loss: 2.0707 - accuracy: 0.3686 - val_loss: 1.6680 - val_accuracy: 0.4677\n",
      "Epoch 5/20\n",
      "245/245 [==============================] - 49s 201ms/step - loss: 1.8557 - accuracy: 0.4170 - val_loss: 1.4311 - val_accuracy: 0.5314\n",
      "Epoch 6/20\n",
      "245/245 [==============================] - 51s 209ms/step - loss: 1.6763 - accuracy: 0.4598 - val_loss: 1.3258 - val_accuracy: 0.5581\n",
      "Epoch 7/20\n",
      "245/245 [==============================] - 49s 199ms/step - loss: 1.5419 - accuracy: 0.4949 - val_loss: 1.2708 - val_accuracy: 0.5601\n",
      "Epoch 8/20\n",
      "245/245 [==============================] - 49s 199ms/step - loss: 1.4474 - accuracy: 0.5261 - val_loss: 1.1261 - val_accuracy: 0.6307\n",
      "Epoch 9/20\n",
      "245/245 [==============================] - 50s 202ms/step - loss: 1.3581 - accuracy: 0.5495 - val_loss: 0.9784 - val_accuracy: 0.6859\n",
      "Epoch 10/20\n",
      "245/245 [==============================] - 49s 201ms/step - loss: 1.2695 - accuracy: 0.5775 - val_loss: 0.9024 - val_accuracy: 0.7026\n",
      "Epoch 11/20\n",
      "245/245 [==============================] - 49s 201ms/step - loss: 1.2110 - accuracy: 0.6015 - val_loss: 0.8328 - val_accuracy: 0.7344\n",
      "Epoch 12/20\n",
      "245/245 [==============================] - 50s 204ms/step - loss: 1.1370 - accuracy: 0.6222 - val_loss: 0.7472 - val_accuracy: 0.7580\n",
      "Epoch 13/20\n",
      "245/245 [==============================] - 48s 197ms/step - loss: 1.0922 - accuracy: 0.6382 - val_loss: 0.7062 - val_accuracy: 0.7638\n",
      "Epoch 14/20\n",
      "245/245 [==============================] - 48s 197ms/step - loss: 1.0416 - accuracy: 0.6517 - val_loss: 0.6605 - val_accuracy: 0.7842\n",
      "Epoch 15/20\n",
      "245/245 [==============================] - 47s 190ms/step - loss: 0.9999 - accuracy: 0.6653 - val_loss: 0.6026 - val_accuracy: 0.8006\n",
      "Epoch 16/20\n",
      "245/245 [==============================] - 45s 184ms/step - loss: 0.9566 - accuracy: 0.6801 - val_loss: 0.5891 - val_accuracy: 0.7960\n",
      "Epoch 17/20\n",
      "245/245 [==============================] - 45s 183ms/step - loss: 0.9227 - accuracy: 0.6934 - val_loss: 0.5691 - val_accuracy: 0.8046\n",
      "Epoch 18/20\n",
      "245/245 [==============================] - 45s 184ms/step - loss: 0.8980 - accuracy: 0.7015 - val_loss: 0.5404 - val_accuracy: 0.8180\n",
      "Epoch 19/20\n",
      "245/245 [==============================] - 45s 184ms/step - loss: 0.8486 - accuracy: 0.7156 - val_loss: 0.4981 - val_accuracy: 0.8346\n",
      "Epoch 20/20\n",
      "245/245 [==============================] - 45s 182ms/step - loss: 0.8227 - accuracy: 0.7268 - val_loss: 0.4699 - val_accuracy: 0.8397\n",
      "Test loss: 0.4699361026287079\n",
      "Test accuracy: 0.8397092819213867\n"
     ]
    }
   ],
   "source": [
    "X_train, X_test, y_train, y_test = train_test_split(train_images, train_labels, test_size=0.2, random_state=128)\n",
    "\n",
    "from tensorflow.keras.preprocessing.image import ImageDataGenerator\n",
    "from tensorflow.keras import layers, models\n",
    "import tensorflow as tf\n",
    "\n",
    "# Define the image data generator with augmentation options\n",
    "datagen = ImageDataGenerator(\n",
    "    rotation_range=20,\n",
    "    width_shift_range=0.2,\n",
    "    height_shift_range=0.2,\n",
    "    shear_range=0.2,\n",
    "    zoom_range=0.2,\n",
    "    horizontal_flip=True,\n",
    "    fill_mode='nearest'\n",
    ")\n",
    "\n",
    "# Assuming X_train and y_train are your training images and labels\n",
    "# Fit the data generator on the training data\n",
    "datagen.fit(X_train)\n",
    "\n",
    "# Define your model\n",
    "model = models.Sequential()\n",
    "model.add(layers.Conv2D(64, (3, 3), activation='relu', input_shape=(IMG_SIZE, IMG_SIZE, 3)))\n",
    "model.add(layers.MaxPooling2D((2, 2)))\n",
    "\n",
    "model.add(layers.Conv2D(32, (3, 3), activation='tanh'))\n",
    "model.add(layers.MaxPooling2D((2, 2)))\n",
    "model.add(layers.Conv2D(32, (3, 3), activation='tanh'))\n",
    "model.add(layers.MaxPooling2D((2, 2)))\n",
    "\n",
    "model.add(layers.Flatten())\n",
    "model.add(layers.Dense(16, activation='relu'))\n",
    "model.add(layers.Dense(43, activation='softmax'))  # Ensure softmax for classification\n",
    "\n",
    "model.compile(optimizer='adam',\n",
    "              loss=tf.keras.losses.SparseCategoricalCrossentropy(),\n",
    "              metrics=['accuracy'])\n",
    "\n",
    "# Use the data generator for training\n",
    "history = model.fit(datagen.flow(X_train, y_train, batch_size=128),\n",
    "                    steps_per_epoch=len(X_train) // 128,\n",
    "                    epochs=20,\n",
    "                    validation_data=(X_test, y_test))\n",
    "\n",
    "# Evaluate the model\n",
    "score = model.evaluate(X_test, y_test, verbose=0)\n",
    "print('Test loss:', score[0])\n",
    "print('Test accuracy:', score[1])\n"
   ]
  },
  {
   "cell_type": "markdown",
   "metadata": {},
   "source": [
    "# pytorch model"
   ]
  },
  {
   "cell_type": "code",
   "execution_count": 21,
   "metadata": {},
   "outputs": [],
   "source": [
    "\n",
    "# Define the image size and batch size\n",
    "IMG_SIZE = 32  # Define your image size\n",
    "BATCH_SIZE = 128\n",
    "\n",
    "# Define the data augmentation transformations\n",
    "transform = transforms.Compose([\n",
    "transforms.RandomRotation(20), # This line applies a random rotation to the input image by up to 20 degrees.\n",
    "transforms.RandomResizedCrop(IMG_SIZE, scale=(0.8, 1.0)), # a random crop is taken from the input image after resizing it to a random size between 80% and 100% of the original size.\n",
    "transforms.RandomHorizontalFlip(),\n",
    "transforms.ToTensor(),\n",
    "transforms.Normalize((0.5,), (0.5,))\n",
    "])\n",
    "\n",
    "# Load the dataset\n",
    "dataset = datasets.ImageFolder(root='Train', transform=transform)\n",
    "# Split the dataset into training and testing sets\n",
    "train_size = int(0.8 * len(dataset))\n",
    "test_size = len(dataset) - train_size\n",
    "train_dataset, test_dataset = random_split(dataset, [train_size, test_size])\n",
    "\n",
    "train_loader = DataLoader(train_dataset, batch_size=BATCH_SIZE, shuffle=True)\n",
    "test_loader = DataLoader(test_dataset, batch_size=BATCH_SIZE, shuffle=False)\n",
    "\n"
   ]
  },
  {
   "cell_type": "markdown",
   "metadata": {},
   "source": [
    "# CNN model using pytorch"
   ]
  },
  {
   "cell_type": "code",
   "execution_count": 29,
   "metadata": {},
   "outputs": [],
   "source": [
    "# Define the image size and batch size\n",
    "IMG_SIZE = 32  # Define your image size\n",
    "BATCH_SIZE = 128\n",
    "\n",
    "# Define the model\n",
    "class SimpleCNN(nn.Module):\n",
    "    def __init__(self):\n",
    "        super(SimpleCNN, self).__init__()\n",
    "        self.conv1 = nn.Conv2d(3, 64, kernel_size=3, padding=1)\n",
    "        self.bn1 = nn.BatchNorm2d(64) # make regularization & stabilization\n",
    "        self.pool = nn.MaxPool2d(2, 2) # to emphasize on important feature\n",
    "        self.conv2 = nn.Conv2d(64, 64, kernel_size=3, padding=1)\n",
    "        self.bn2 = nn.BatchNorm2d(64)\n",
    "        self.conv3 = nn.Conv2d(64, 128, kernel_size=3, padding=1)\n",
    "        self.bn3 = nn.BatchNorm2d(128)\n",
    "\n",
    "\n",
    "        # fully connected layer\n",
    "        self.fc1 = nn.Linear(128 * (IMG_SIZE // 8) * (IMG_SIZE // 8), 128)\n",
    "        self.dropout = nn.Dropout(0.5)\n",
    "        self.fc2 = nn.Linear(128, 64)\n",
    "        self.fc3 = nn.Linear(64, 43)\n",
    "\n",
    "    def forward(self, x):\n",
    "        x = torch.relu(self.conv1(x))\n",
    "        x = self.pool(x)\n",
    "        x = torch.tanh(self.conv2(x))\n",
    "        x = self.pool(x)\n",
    "        x = torch.tanh(self.conv3(x))\n",
    "        x = self.pool(x)\n",
    "\n",
    "\n",
    "        \n",
    "        x = torch.flatten(x, 1)\n",
    "        x = torch.relu(self.fc1(x))\n",
    "        x = self.dropout(x)\n",
    "        x = torch.relu(self.fc2(x))\n",
    "        x = self.fc3(x)\n",
    "        return x\n",
    "\n",
    "model = SimpleCNN()\n",
    "\n",
    "\n",
    "# Define the loss function and optimizer\n",
    "criterion = nn.CrossEntropyLoss()\n",
    "optimizer = torch.optim.Adam(model.parameters(), lr=0.001)"
   ]
  },
  {
   "cell_type": "markdown",
   "metadata": {},
   "source": [
    "# training and testing the model"
   ]
  },
  {
   "cell_type": "code",
   "execution_count": 30,
   "metadata": {},
   "outputs": [
    {
     "name": "stdout",
     "output_type": "stream",
     "text": [
      "Epoch 1, Loss: 2.5923945661482772\n",
      "Validation Accuracy: 48.12547819433818%\n",
      "Epoch 2, Loss: 1.341799407107074\n",
      "Validation Accuracy: 71.20632491711298%\n",
      "Epoch 3, Loss: 0.8859276912076687\n",
      "Validation Accuracy: 79.13797500637592%\n",
      "Epoch 4, Loss: 0.6737365091476983\n",
      "Validation Accuracy: 83.48635552155062%\n",
      "Epoch 5, Loss: 0.5482662964036794\n",
      "Validation Accuracy: 88.71461361897475%\n",
      "Epoch 6, Loss: 0.45937049800787516\n",
      "Validation Accuracy: 90.56363172660036%\n",
      "Epoch 7, Loss: 0.3824564264557226\n",
      "Validation Accuracy: 92.34889058913542%\n",
      "Epoch 8, Loss: 0.345915298348641\n",
      "Validation Accuracy: 93.39454220862025%\n",
      "Epoch 9, Loss: 0.3154006873037878\n",
      "Validation Accuracy: 94.1341494516705%\n",
      "Epoch 10, Loss: 0.2889081031932094\n",
      "Validation Accuracy: 94.12139760265238%\n",
      "Epoch 11, Loss: 0.27974679375567085\n",
      "Validation Accuracy: 94.75899005355777%\n",
      "Epoch 12, Loss: 0.26424571399281666\n",
      "Validation Accuracy: 95.24356031624586%\n",
      "Epoch 13, Loss: 0.2417873877698813\n",
      "Validation Accuracy: 95.63886763580719%\n",
      "Epoch 14, Loss: 0.23043019706156195\n",
      "Validation Accuracy: 96.39122672787555%\n",
      "Epoch 15, Loss: 0.2342833591609951\n",
      "Validation Accuracy: 94.78449375159398%\n",
      "Epoch 16, Loss: 0.24126730623798884\n",
      "Validation Accuracy: 96.11068604947718%\n",
      "Epoch 17, Loss: 0.20408968101596323\n",
      "Validation Accuracy: 95.99591940831421%\n",
      "Epoch 18, Loss: 0.197898708791207\n",
      "Validation Accuracy: 96.86304514154553%\n",
      "Epoch 19, Loss: 0.1888756706874829\n",
      "Validation Accuracy: 96.68451925529202%\n",
      "Epoch 20, Loss: 0.18195773335552312\n",
      "Validation Accuracy: 97.11808212190768%\n",
      "Test accuracy: 96.90130068859985\n"
     ]
    }
   ],
   "source": [
    "import torch\n",
    "import matplotlib.pyplot as plt\n",
    "\n",
    "# Training loop\n",
    "num_epochs = 20\n",
    "\n",
    "for epoch in range(num_epochs):\n",
    "    model.train()\n",
    "    running_loss = 0.0\n",
    "    for images, labels in train_loader:\n",
    "        optimizer.zero_grad()  # Before computing gradients for a new batch of data, we need to reset the gradients from the previous batch.\n",
    "        outputs = model(images)\n",
    "        loss = criterion(outputs, labels)\n",
    "        loss.backward()\n",
    "        optimizer.step()\n",
    "        running_loss += loss.item()\n",
    "    print(f\"Epoch {epoch + 1}, Loss: {running_loss / len(train_loader)}\")\n",
    "\n",
    "    # Validation\n",
    "    model.eval()\n",
    "    correct = 0\n",
    "    total = 0\n",
    "    with torch.no_grad():\n",
    "        for images, labels in test_loader:\n",
    "            outputs = model(images)\n",
    "            _, predicted = torch.max(outputs.data, 1)\n",
    "            total += labels.size(0)\n",
    "            correct += (predicted == labels).sum().item()\n",
    "    print(f\"Validation Accuracy: {100 * correct / total}%\")\n",
    "\n",
    "# Evaluate the model on the test set\n",
    "model.eval()\n",
    "correct = 0\n",
    "total = 0\n",
    "with torch.no_grad():\n",
    "    all_images = []\n",
    "    all_labels = []\n",
    "    all_preds = []\n",
    "    \n",
    "    for images, labels in test_loader:\n",
    "        outputs = model(images)\n",
    "        _, predicted = torch.max(outputs.data, 1)\n",
    "        total += labels.size(0)\n",
    "        correct += (predicted == labels).sum().item()\n",
    "        \n",
    "        all_images.extend(images)\n",
    "        all_labels.extend(labels)\n",
    "        all_preds.extend(predicted)\n",
    "\n",
    "print('Test accuracy:', 100 * correct / total)\n",
    "\n",
    "\n"
   ]
  },
  {
   "cell_type": "markdown",
   "metadata": {},
   "source": [
    "# visualize a sample with prediction"
   ]
  },
  {
   "cell_type": "code",
   "execution_count": 38,
   "metadata": {},
   "outputs": [
    {
     "name": "stderr",
     "output_type": "stream",
     "text": [
      "Clipping input data to the valid range for imshow with RGB data ([0..1] for floats or [0..255] for integers).\n",
      "Clipping input data to the valid range for imshow with RGB data ([0..1] for floats or [0..255] for integers).\n"
     ]
    },
    {
     "name": "stderr",
     "output_type": "stream",
     "text": [
      "Clipping input data to the valid range for imshow with RGB data ([0..1] for floats or [0..255] for integers).\n",
      "Clipping input data to the valid range for imshow with RGB data ([0..1] for floats or [0..255] for integers).\n",
      "Clipping input data to the valid range for imshow with RGB data ([0..1] for floats or [0..255] for integers).\n",
      "Clipping input data to the valid range for imshow with RGB data ([0..1] for floats or [0..255] for integers).\n",
      "Clipping input data to the valid range for imshow with RGB data ([0..1] for floats or [0..255] for integers).\n",
      "Clipping input data to the valid range for imshow with RGB data ([0..1] for floats or [0..255] for integers).\n",
      "Clipping input data to the valid range for imshow with RGB data ([0..1] for floats or [0..255] for integers).\n",
      "Clipping input data to the valid range for imshow with RGB data ([0..1] for floats or [0..255] for integers).\n",
      "Clipping input data to the valid range for imshow with RGB data ([0..1] for floats or [0..255] for integers).\n",
      "Clipping input data to the valid range for imshow with RGB data ([0..1] for floats or [0..255] for integers).\n",
      "Clipping input data to the valid range for imshow with RGB data ([0..1] for floats or [0..255] for integers).\n",
      "Clipping input data to the valid range for imshow with RGB data ([0..1] for floats or [0..255] for integers).\n"
     ]
    },
    {
     "data": {
      "image/png": "[encoded data removed]",
      "text/plain": [
       "<Figure size 1500x600 with 14 Axes>"
      ]
     },
     "metadata": {},
     "output_type": "display_data"
    }
   ],
   "source": [
    "# Display predicted vs actual labels for a few samples\n",
    "num_samples = 14\n",
    "fig = plt.figure(figsize=(15, 6))\n",
    "\n",
    "for idx in range(num_samples):\n",
    "    ax = fig.add_subplot(2, num_samples//2, idx+1, xticks=[], yticks=[])\n",
    "    img = all_images[idx].permute(1, 2, 0).numpy()\n",
    "    ax.imshow(img)\n",
    "    ax.set_title(f\"Pred: {all_preds[idx].item()}, Act: {all_labels[idx].item()}\")\n",
    "\n",
    "plt.show()"
   ]
  },
  {
   "cell_type": "markdown",
   "metadata": {},
   "source": [
    "# confusion matrix & visualization"
   ]
  },
  {
   "cell_type": "code",
   "execution_count": 43,
   "metadata": {},
   "outputs": [
    {
     "data": {
      "image/png": "[encoded data removed]",
      "text/plain": [
       "<Figure size 700x700 with 2 Axes>"
      ]
     },
     "metadata": {},
     "output_type": "display_data"
    }
   ],
   "source": [
    "import numpy as np\n",
    "import matplotlib.pyplot as plt\n",
    "from sklearn.metrics import confusion_matrix\n",
    "\n",
    "# Create a confusion matrix\n",
    "conf_matrix = confusion_matrix(all_preds,all_labels)\n",
    "\n",
    "plt.figure(figsize=(7, 7))\n",
    "# Plot the confusion matrix\n",
    "plt.imshow(conf_matrix, cmap='Blues', interpolation='nearest')\n",
    "plt.title(\"Confusion Matrix\")\n",
    "plt.colorbar()\n",
    "plt.xlabel(\"Predicted Label\")\n",
    "plt.ylabel(\"Actual Label\")\n",
    "plt.show()\n"
   ]
  }
 ],
 "metadata": {
  "kernelspec": {
   "display_name": "Python 3",
   "language": "python",
   "name": "python3"
  },
  "language_info": {
   "codemirror_mode": {
    "name": "ipython",
    "version": 3
   },
   "file_extension": ".py",
   "mimetype": "text/x-python",
   "name": "python",
   "nbconvert_exporter": "python",
   "pygments_lexer": "ipython3",
   "version": "3.11.1"
  }
 },
 "nbformat": 4,
 "nbformat_minor": 2
}
